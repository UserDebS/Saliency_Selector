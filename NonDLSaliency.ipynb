{
  "cells": [
    {
      "cell_type": "code",
      "execution_count": 15,
      "metadata": {
        "id": "zsQPEnZSxln-"
      },
      "outputs": [],
      "source": [
        "from kmeanssaliency1 import kMean_saliency\n",
        "import cv2\n",
        "import numpy as np\n",
        "import timeit\n",
        "import matplotlib.pyplot as plt\n",
        "import joblib\n",
        "import shutil\n",
        "import os\n",
        "from slicSaliency import computeSLICsaliency\n",
        "import cv2\n",
        "from skimage.transform import resize\n",
        "from skimage.color import rgb2gray\n",
        "datasets = [\"Cars\",\"dog\",\"sky\",\"cultivated land\",'cats']"
      ]
    },
    {
      "cell_type": "code",
      "execution_count": 4,
      "metadata": {
        "id": "OsxZg9Ncx_Pa"
      },
      "outputs": [],
      "source": [
        "\n",
        "def flushFolder(method,d):\n",
        "    parent_dir = f\"./Saliency/\"\n",
        "    directory = f\"./{method}/saliency_{d}\" \n",
        "    path = os.path.join(parent_dir, directory)\n",
        "    try:\n",
        "        shutil.rmtree(path)\n",
        "    except OSError as e:\n",
        "        print(\"Warning: %s - %s.\" % (e.filename, e.strerror)+\"  rmtree not required!\")\n",
        "    isExist = os.path.exists(path)\n",
        "    if not isExist:\n",
        "        os.makedirs(path)"
      ]
    },
    {
      "cell_type": "code",
      "execution_count": 8,
      "metadata": {
        "id": "tfM-jE7ZyhMW"
      },
      "outputs": [],
      "source": [
        "def computeKMeansForDataset(d):\n",
        "    method='KMeans'\n",
        "    flushFolder(method,d)\n",
        "    folder=f\"./inputs/sample_{d}\"\n",
        "    files = os.listdir(folder)\n",
        "    files.sort()\n",
        "    i = 0\n",
        "    for filename in files:\n",
        "        img = cv2.imread(os.path.join(folder,filename))\n",
        "        img = resize(img,(128,128,img.shape[2]))\n",
        "        img =((img/img.max())*255).astype('uint8')\n",
        "        SAlMap=kMean_saliency(img,85)\n",
        "        cv2.imwrite(f'./Saliency/{method}/saliency_{d}/{i}.jpg',SAlMap)\n",
        "        i+=1\n"
      ]
    },
    {
      "cell_type": "code",
      "execution_count": 6,
      "metadata": {
        "id": "OjdW4jyO7suh"
      },
      "outputs": [],
      "source": [
        "def KmeansTimes():\n",
        "  KMeans_times = {}\n",
        "  n = 1\n",
        "  for d in datasets:\n",
        "    t = timeit.timeit('computeKMeansForDataset(d)',globals=globals(),number=n)\n",
        "    KMeans_times[d] = t/n\n",
        "  print(KmeansTimes)\n",
        "  joblib.dump(KMeans_times,'KMeans_times.pkl')"
      ]
    },
    {
      "cell_type": "code",
      "execution_count": 16,
      "metadata": {},
      "outputs": [
        {
          "ename": "KeyboardInterrupt",
          "evalue": "",
          "output_type": "error",
          "traceback": [
            "\u001b[1;31m---------------------------------------------------------------------------\u001b[0m",
            "\u001b[1;31mKeyboardInterrupt\u001b[0m                         Traceback (most recent call last)",
            "\u001b[1;32mc:\\Users\\PC\\OneDrive\\Desktop\\Saliency selector\\Time-Sensitive-Saliency-Selector\\NonDLSaliency.ipynb Cell 5\u001b[0m line \u001b[0;36m4\n\u001b[0;32m      <a href='vscode-notebook-cell:/c%3A/Users/PC/OneDrive/Desktop/Saliency%20selector/Time-Sensitive-Saliency-Selector/NonDLSaliency.ipynb#W4sZmlsZQ%3D%3D?line=0'>1</a>\u001b[0m \u001b[39m# for d in datasets:\u001b[39;00m\n\u001b[0;32m      <a href='vscode-notebook-cell:/c%3A/Users/PC/OneDrive/Desktop/Saliency%20selector/Time-Sensitive-Saliency-Selector/NonDLSaliency.ipynb#W4sZmlsZQ%3D%3D?line=1'>2</a>\u001b[0m \u001b[39m#   computeKMeansForDataset(d)\u001b[39;00m\n\u001b[0;32m      <a href='vscode-notebook-cell:/c%3A/Users/PC/OneDrive/Desktop/Saliency%20selector/Time-Sensitive-Saliency-Selector/NonDLSaliency.ipynb#W4sZmlsZQ%3D%3D?line=2'>3</a>\u001b[0m computeKMeansForDataset(\u001b[39m'\u001b[39m\u001b[39mdog\u001b[39m\u001b[39m'\u001b[39m)\n\u001b[1;32m----> <a href='vscode-notebook-cell:/c%3A/Users/PC/OneDrive/Desktop/Saliency%20selector/Time-Sensitive-Saliency-Selector/NonDLSaliency.ipynb#W4sZmlsZQ%3D%3D?line=3'>4</a>\u001b[0m KmeansTimes()\n",
            "\u001b[1;32mc:\\Users\\PC\\OneDrive\\Desktop\\Saliency selector\\Time-Sensitive-Saliency-Selector\\NonDLSaliency.ipynb Cell 5\u001b[0m line \u001b[0;36m5\n\u001b[0;32m      <a href='vscode-notebook-cell:/c%3A/Users/PC/OneDrive/Desktop/Saliency%20selector/Time-Sensitive-Saliency-Selector/NonDLSaliency.ipynb#W4sZmlsZQ%3D%3D?line=2'>3</a>\u001b[0m n \u001b[39m=\u001b[39m \u001b[39m1\u001b[39m\n\u001b[0;32m      <a href='vscode-notebook-cell:/c%3A/Users/PC/OneDrive/Desktop/Saliency%20selector/Time-Sensitive-Saliency-Selector/NonDLSaliency.ipynb#W4sZmlsZQ%3D%3D?line=3'>4</a>\u001b[0m \u001b[39mfor\u001b[39;00m d \u001b[39min\u001b[39;00m datasets:\n\u001b[1;32m----> <a href='vscode-notebook-cell:/c%3A/Users/PC/OneDrive/Desktop/Saliency%20selector/Time-Sensitive-Saliency-Selector/NonDLSaliency.ipynb#W4sZmlsZQ%3D%3D?line=4'>5</a>\u001b[0m   t \u001b[39m=\u001b[39m timeit\u001b[39m.\u001b[39;49mtimeit(\u001b[39m'\u001b[39;49m\u001b[39mcomputeKMeansForDataset(d)\u001b[39;49m\u001b[39m'\u001b[39;49m,\u001b[39mglobals\u001b[39;49m\u001b[39m=\u001b[39;49m\u001b[39mglobals\u001b[39;49m(),number\u001b[39m=\u001b[39;49mn)\n\u001b[0;32m      <a href='vscode-notebook-cell:/c%3A/Users/PC/OneDrive/Desktop/Saliency%20selector/Time-Sensitive-Saliency-Selector/NonDLSaliency.ipynb#W4sZmlsZQ%3D%3D?line=5'>6</a>\u001b[0m   KMeans_times[d] \u001b[39m=\u001b[39m t\u001b[39m/\u001b[39mn\n\u001b[0;32m      <a href='vscode-notebook-cell:/c%3A/Users/PC/OneDrive/Desktop/Saliency%20selector/Time-Sensitive-Saliency-Selector/NonDLSaliency.ipynb#W4sZmlsZQ%3D%3D?line=6'>7</a>\u001b[0m \u001b[39mprint\u001b[39m(KmeansTimes)\n",
            "File \u001b[1;32mc:\\Users\\PC\\AppData\\Local\\Programs\\Python\\Python311\\Lib\\timeit.py:234\u001b[0m, in \u001b[0;36mtimeit\u001b[1;34m(stmt, setup, timer, number, globals)\u001b[0m\n\u001b[0;32m    231\u001b[0m \u001b[39mdef\u001b[39;00m \u001b[39mtimeit\u001b[39m(stmt\u001b[39m=\u001b[39m\u001b[39m\"\u001b[39m\u001b[39mpass\u001b[39m\u001b[39m\"\u001b[39m, setup\u001b[39m=\u001b[39m\u001b[39m\"\u001b[39m\u001b[39mpass\u001b[39m\u001b[39m\"\u001b[39m, timer\u001b[39m=\u001b[39mdefault_timer,\n\u001b[0;32m    232\u001b[0m            number\u001b[39m=\u001b[39mdefault_number, \u001b[39mglobals\u001b[39m\u001b[39m=\u001b[39m\u001b[39mNone\u001b[39;00m):\n\u001b[0;32m    233\u001b[0m \u001b[39m    \u001b[39m\u001b[39m\"\"\"Convenience function to create Timer object and call timeit method.\"\"\"\u001b[39;00m\n\u001b[1;32m--> 234\u001b[0m     \u001b[39mreturn\u001b[39;00m Timer(stmt, setup, timer, \u001b[39mglobals\u001b[39;49m)\u001b[39m.\u001b[39;49mtimeit(number)\n",
            "File \u001b[1;32mc:\\Users\\PC\\AppData\\Local\\Programs\\Python\\Python311\\Lib\\timeit.py:178\u001b[0m, in \u001b[0;36mTimer.timeit\u001b[1;34m(self, number)\u001b[0m\n\u001b[0;32m    176\u001b[0m gc\u001b[39m.\u001b[39mdisable()\n\u001b[0;32m    177\u001b[0m \u001b[39mtry\u001b[39;00m:\n\u001b[1;32m--> 178\u001b[0m     timing \u001b[39m=\u001b[39m \u001b[39mself\u001b[39;49m\u001b[39m.\u001b[39;49minner(it, \u001b[39mself\u001b[39;49m\u001b[39m.\u001b[39;49mtimer)\n\u001b[0;32m    179\u001b[0m \u001b[39mfinally\u001b[39;00m:\n\u001b[0;32m    180\u001b[0m     \u001b[39mif\u001b[39;00m gcold:\n",
            "File \u001b[1;32m<timeit-src>:6\u001b[0m, in \u001b[0;36minner\u001b[1;34m(_it, _timer)\u001b[0m\n",
            "\u001b[1;32mc:\\Users\\PC\\OneDrive\\Desktop\\Saliency selector\\Time-Sensitive-Saliency-Selector\\NonDLSaliency.ipynb Cell 5\u001b[0m line \u001b[0;36m1\n\u001b[0;32m     <a href='vscode-notebook-cell:/c%3A/Users/PC/OneDrive/Desktop/Saliency%20selector/Time-Sensitive-Saliency-Selector/NonDLSaliency.ipynb#W4sZmlsZQ%3D%3D?line=9'>10</a>\u001b[0m img \u001b[39m=\u001b[39m resize(img,(\u001b[39m128\u001b[39m,\u001b[39m128\u001b[39m,img\u001b[39m.\u001b[39mshape[\u001b[39m2\u001b[39m]))\n\u001b[0;32m     <a href='vscode-notebook-cell:/c%3A/Users/PC/OneDrive/Desktop/Saliency%20selector/Time-Sensitive-Saliency-Selector/NonDLSaliency.ipynb#W4sZmlsZQ%3D%3D?line=10'>11</a>\u001b[0m img \u001b[39m=\u001b[39m((img\u001b[39m/\u001b[39mimg\u001b[39m.\u001b[39mmax())\u001b[39m*\u001b[39m\u001b[39m255\u001b[39m)\u001b[39m.\u001b[39mastype(\u001b[39m'\u001b[39m\u001b[39muint8\u001b[39m\u001b[39m'\u001b[39m)\n\u001b[1;32m---> <a href='vscode-notebook-cell:/c%3A/Users/PC/OneDrive/Desktop/Saliency%20selector/Time-Sensitive-Saliency-Selector/NonDLSaliency.ipynb#W4sZmlsZQ%3D%3D?line=11'>12</a>\u001b[0m SAlMap\u001b[39m=\u001b[39mkMean_saliency(img,\u001b[39m85\u001b[39;49m)\n\u001b[0;32m     <a href='vscode-notebook-cell:/c%3A/Users/PC/OneDrive/Desktop/Saliency%20selector/Time-Sensitive-Saliency-Selector/NonDLSaliency.ipynb#W4sZmlsZQ%3D%3D?line=12'>13</a>\u001b[0m cv2\u001b[39m.\u001b[39mimwrite(\u001b[39mf\u001b[39m\u001b[39m'\u001b[39m\u001b[39m./Saliency/\u001b[39m\u001b[39m{\u001b[39;00mmethod\u001b[39m}\u001b[39;00m\u001b[39m/saliency_\u001b[39m\u001b[39m{\u001b[39;00md\u001b[39m}\u001b[39;00m\u001b[39m/\u001b[39m\u001b[39m{\u001b[39;00mi\u001b[39m}\u001b[39;00m\u001b[39m.jpg\u001b[39m\u001b[39m'\u001b[39m,SAlMap)\n\u001b[0;32m     <a href='vscode-notebook-cell:/c%3A/Users/PC/OneDrive/Desktop/Saliency%20selector/Time-Sensitive-Saliency-Selector/NonDLSaliency.ipynb#W4sZmlsZQ%3D%3D?line=13'>14</a>\u001b[0m i\u001b[39m+\u001b[39m\u001b[39m=\u001b[39m\u001b[39m1\u001b[39m\n",
            "File \u001b[1;32mc:\\Users\\PC\\OneDrive\\Desktop\\Saliency selector\\Time-Sensitive-Saliency-Selector\\kmeanssaliency1.py:24\u001b[0m, in \u001b[0;36mkMean_saliency\u001b[1;34m(img, K)\u001b[0m\n\u001b[0;32m     22\u001b[0m criteria \u001b[39m=\u001b[39m (cv2\u001b[39m.\u001b[39mTERM_CRITERIA_EPS \u001b[39m+\u001b[39m cv2\u001b[39m.\u001b[39mTERM_CRITERIA_MAX_ITER, \u001b[39m100\u001b[39m, \u001b[39m0.85\u001b[39m)\n\u001b[0;32m     23\u001b[0m \u001b[39m# implementing k-means algorithm..\u001b[39;00m\n\u001b[1;32m---> 24\u001b[0m _, label, center \u001b[39m=\u001b[39m cv2\u001b[39m.\u001b[39;49mkmeans(pixel_val,K, \u001b[39mNone\u001b[39;49;00m, criteria, \u001b[39m10\u001b[39;49m, cv2\u001b[39m.\u001b[39;49mKMEANS_RANDOM_CENTERS)\n\u001b[0;32m     25\u001b[0m center \u001b[39m=\u001b[39m np\u001b[39m.\u001b[39muint8(center)\n\u001b[0;32m     26\u001b[0m label \u001b[39m=\u001b[39m label\u001b[39m.\u001b[39mflatten()\n",
            "\u001b[1;31mKeyboardInterrupt\u001b[0m: "
          ]
        }
      ],
      "source": [
        "for d in datasets:\n",
        "  computeKMeansForDataset(d)\n",
        "KmeansTimes()"
      ]
    },
    {
      "cell_type": "code",
      "execution_count": 45,
      "metadata": {
        "id": "FNR_VuXR1bmr"
      },
      "outputs": [],
      "source": [
        "def fineGrained(d):\n",
        "    method='FineGrained'\n",
        "    flushFolder(method,d)\n",
        "    folder=f\"./inputs/sample_{d}\"\n",
        "    files = os.listdir(folder)\n",
        "    files.sort()\n",
        "    i = 0\n",
        "    for filename in files:\n",
        "      img = cv2.imread(os.path.join(folder,filename))\n",
        "      img = cv2.cvtColor(img, cv2.COLOR_BGR2RGB)\n",
        "      img = resize(img,(128,128,img.shape[2]))\n",
        "      img =((img/img.max())*255).astype('uint8')\n",
        "      # initialize OpenCV's static fine grained saliency detector and computing the saliency map\n",
        "      saliency = cv2.saliency.StaticSaliencyFineGrained_create()\n",
        "      (success, saliencyMap) = saliency.computeSaliency(img)\n",
        "      # plt.imshow(saliencyMap,cmap='gray')\n",
        "      # plt.show()\n",
        "      cv2.imwrite(f'./Saliency/{method}/saliency_{d}/{i}.jpg',saliencyMap)\n",
        "      i+=1\n",
        "def fineGrainedTimes():\n",
        "  FineGrained_times = {}\n",
        "  n =10\n",
        "  for d in datasets:\n",
        "    t = timeit.timeit('fineGrained(d)',globals=globals(),number=n)\n",
        "    FineGrained_times[d] = t/n\n",
        "  joblib.dump(FineGrained_times,'times/FineGrained_times.pkl')"
      ]
    },
    {
      "cell_type": "code",
      "execution_count": 46,
      "metadata": {
        "id": "09TTXteq3c-G"
      },
      "outputs": [],
      "source": [
        "for d in datasets:\n",
        "  fineGrained(d)\n",
        "fineGrainedTimes()"
      ]
    },
    {
      "cell_type": "code",
      "execution_count": 50,
      "metadata": {
        "id": "HI-GSZ6d4bqb"
      },
      "outputs": [],
      "source": [
        "def spectralSaliency(d):\n",
        "    method='Spectral'\n",
        "    flushFolder(method,d)\n",
        "    folder=f\"./inputs/sample_{d}\"\n",
        "    files = os.listdir(folder)\n",
        "    files.sort()\n",
        "    i = 0\n",
        "    for filename in files:\n",
        "      img = cv2.imread(os.path.join(folder,filename))\n",
        "      img = resize(img,(128,128,img.shape[2]))\n",
        "      img =((img/img.max())*255).astype('uint8')\n",
        "      # initialize OpenCV's static saliency spectral residual detector and computing the saliency map\n",
        "      saliency = cv2.saliency.StaticSaliencySpectralResidual_create()\n",
        "      (success, saliencyMap) = saliency.computeSaliency(img)\n",
        "      saliencyMap = (saliencyMap * 255).astype(\"uint8\")\n",
        "      cv2.imwrite(f'./Saliency/{method}/saliency_{d}/{i}.jpg',saliencyMap)\n",
        "      i+=1"
      ]
    },
    {
      "cell_type": "code",
      "execution_count": 51,
      "metadata": {
        "id": "3m-tSFLg5kDy"
      },
      "outputs": [],
      "source": [
        "def SpectralTimes():\n",
        "  Spectral_times = {}\n",
        "  n =10\n",
        "  for d in datasets:\n",
        "    t = timeit.timeit('spectralSaliency(d)',globals=globals(),number=n)\n",
        "    Spectral_times[d] = t/n\n",
        "  joblib.dump(Spectral_times,'times/Spectral_times.pkl')"
      ]
    },
    {
      "cell_type": "code",
      "execution_count": 52,
      "metadata": {},
      "outputs": [],
      "source": [
        "for d in datasets:\n",
        "  spectralSaliency(d)\n",
        "SpectralTimes()"
      ]
    },
    {
      "cell_type": "code",
      "execution_count": 53,
      "metadata": {},
      "outputs": [],
      "source": [
        "def computeSlicForDataset(d):\n",
        "    method = 'SLIC'\n",
        "    flushFolder(method,d)\n",
        "    folder = f\"./inputs/sample_{d}\"\n",
        "    files = os.listdir(folder)\n",
        "    files.sort()\n",
        "    i = 0\n",
        "    for filename in files:\n",
        "        img = cv2.imread(os.path.join(folder,filename))\n",
        "        img = resize(img,(128,128,img.shape[2]))\n",
        "        img =((img/img.max())*255).astype('uint8')\n",
        "        SAlMap = computeSLICsaliency(img,2048)\n",
        "        cv2.imwrite(f'./Saliency/{method}/saliency_{d}/{i}.jpg',SAlMap)\n",
        "        i+=1\n",
        "def SlicTimes():\n",
        "    SLIC_times = {}\n",
        "    n =10\n",
        "    for d in datasets:\n",
        "        t = timeit.timeit('computeSlicForDataset(d)',globals=globals(),number=n)\n",
        "        SLIC_times[d] = t/n\n",
        "    joblib.dump(SLIC_times,'times/SLIC_times.pkl')"
      ]
    },
    {
      "cell_type": "code",
      "execution_count": 54,
      "metadata": {},
      "outputs": [],
      "source": [
        "for d in datasets:\n",
        "  computeSlicForDataset(d)\n",
        "SlicTimes()"
      ]
    },
    {
      "cell_type": "code",
      "execution_count": 55,
      "metadata": {},
      "outputs": [],
      "source": [
        "def PoolNetTimes():\n",
        "    PoolNet_times = {\n",
        "        'Cars': 2.38,\n",
        "        'dog':2.01,\n",
        "        'sky':2.21,\n",
        "        'cultivated land': 13.9,\n",
        "        'cats':1.8\n",
        "    }\n",
        "    joblib.dump(PoolNet_times,'times/PoolNet_times.pkl')"
      ]
    },
    {
      "cell_type": "code",
      "execution_count": null,
      "metadata": {},
      "outputs": [],
      "source": []
    }
  ],
  "metadata": {
    "colab": {
      "collapsed_sections": [],
      "name": "NonDLSaliency.ipynb",
      "provenance": []
    },
    "kernelspec": {
      "display_name": "Python 3",
      "name": "python3"
    },
    "language_info": {
      "codemirror_mode": {
        "name": "ipython",
        "version": 3
      },
      "file_extension": ".py",
      "mimetype": "text/x-python",
      "name": "python",
      "nbconvert_exporter": "python",
      "pygments_lexer": "ipython3",
      "version": "3.11.4"
    }
  },
  "nbformat": 4,
  "nbformat_minor": 0
}
